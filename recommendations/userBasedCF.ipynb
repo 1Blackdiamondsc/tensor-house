{
 "cells": [
  {
   "cell_type": "code",
   "execution_count": 199,
   "metadata": {
    "collapsed": true
   },
   "outputs": [],
   "source": [
    "# Models from Introduction to Algorithmic Marketing\n",
    "# https://algorithmicweb.wordpress.com/\n",
    "#\n",
    "# Nearest-neighbor used-based collaborative filtering"
   ]
  },
  {
   "cell_type": "code",
   "execution_count": 200,
   "metadata": {
    "collapsed": true
   },
   "outputs": [],
   "source": [
    "%matplotlib inline\n",
    "import sympy as sy\n",
    "import numpy as np\n",
    "import matplotlib.pyplot as plt"
   ]
  },
  {
   "cell_type": "code",
   "execution_count": 201,
   "metadata": {},
   "outputs": [],
   "source": [
    "# Input rating matrix\n",
    "X = None\n",
    "R = np.array([\n",
    "    [5, 4, X, 1, 2, 1],\n",
    "    [4, X, 3, 1, 1, 2],\n",
    "    [X, 5, 5, X, 3, 3],\n",
    "    [2, X, 1, 4, 5, 4],\n",
    "    [2, 2, 2, X, 4, X],\n",
    "    [1, 2, 1, X, 5, 4]\n",
    "])"
   ]
  },
  {
   "cell_type": "code",
   "execution_count": 202,
   "metadata": {},
   "outputs": [],
   "source": [
    "# Define common varibales and helper functions\n",
    "n, m = R.shape\n",
    "def user_common_ratings(R, u, v):\n",
    "    return np.array(list(filter(\n",
    "        lambda r: all(v is not None for v in r), \n",
    "        np.column_stack((R[u,:], R[v,:]))\n",
    "    ))).T\n",
    "\n",
    "def known_user_ratings(R, u):\n",
    "    return [x for x in R[u,:] if x is not None]\n",
    "\n",
    "def known(r):\n",
    "    return r is not None\n",
    "\n",
    "def mean_r(R, u):\n",
    "    return np.mean(known_user_ratings(R, u))"
   ]
  },
  {
   "cell_type": "code",
   "execution_count": 203,
   "metadata": {},
   "outputs": [],
   "source": [
    "# Calculate the matrix of user similarities\n",
    "def similarity(R, u, v):\n",
    "    I_uv = user_common_ratings(R, u, v)\n",
    "    mu_u = mean_r(R, u)\n",
    "    mu_v = mean_r(R, v)\n",
    "    return sum([ \n",
    "          ((I_uv[0,i] - mu_u)*(I_uv[1,i] - mu_v)) / \n",
    "          (np.linalg.norm(I_uv[0,:] - mu_u) * np.linalg.norm(I_uv[1,:] - mu_v)) \n",
    "          for i in range(I_uv.shape[1])])\n",
    "\n",
    "user_similarity = np.array([[\n",
    "    similarity(R, u, v)\n",
    "    for u in range(n)] for v in range(n)])"
   ]
  },
  {
   "cell_type": "code",
   "execution_count": 204,
   "metadata": {},
   "outputs": [
    {
     "name": "stdout",
     "output_type": "stream",
     "text": [
      "[[ 1.     0.875  0.941 -0.797 -0.594 -0.786]\n",
      " [ 0.875  1.     0.872 -0.84  -0.81  -0.882]\n",
      " [ 0.941  0.872  1.    -0.938 -0.87  -0.92 ]\n",
      " [-0.797 -0.84  -0.938  1.     0.86   0.953]\n",
      " [-0.594 -0.81  -0.87   0.86   1.     0.947]\n",
      " [-0.786 -0.882 -0.92   0.953  0.947  1.   ]]\n"
     ]
    }
   ],
   "source": [
    "print(user_similarity)"
   ]
  },
  {
   "cell_type": "code",
   "execution_count": 206,
   "metadata": {},
   "outputs": [
    {
     "name": "stdout",
     "output_type": "stream",
     "text": [
      "user 0, item 2 <- neighbors [2, 1]\n",
      "user 1, item 1 <- neighbors [0, 2]\n",
      "user 2, item 0 <- neighbors [0, 1]\n",
      "user 2, item 3 <- neighbors [0, 1]\n",
      "user 3, item 1 <- neighbors [5, 4]\n",
      "user 4, item 3 <- neighbors [3, 0]\n",
      "user 4, item 5 <- neighbors [5, 3]\n",
      "user 5, item 3 <- neighbors [3, 0]\n",
      "\n",
      "Complete rating matrix:\n",
      "[[ 5.     4.     3.504  1.     2.     1.   ]\n",
      " [ 4.     3.4    3.     1.     1.     2.   ]\n",
      " [ 6.111  5.     5.     2.592  3.     3.   ]\n",
      " [ 2.     2.647  1.     4.     5.     4.   ]\n",
      " [ 2.     2.     2.     3.627  4.     3.614]\n",
      " [ 1.     2.     1.     3.762  5.     4.   ]]\n"
     ]
    }
   ],
   "source": [
    "# Predict ratings based on the user similarities\n",
    "k = 2 # neighborhood size\n",
    "\n",
    "def predict_rating(R, u, i):\n",
    "    # neighbors sorted by similarity\n",
    "    all_neighbors = np.argsort(user_similarity[u])[::-1]\n",
    "    # remove neighbors without ratings for i and select top k\n",
    "    neighbors = list(filter(lambda v: known(R[v,i]) and not v==u, all_neighbors))[:k] \n",
    "    mu_u = mean_r(R, u)\n",
    "    score = 0 \n",
    "    norm = 0\n",
    "    print(\"user %s, item %s <- neighbors %s\" % (u, i, neighbors))\n",
    "    for v in neighbors:\n",
    "        mu_v = mean_r(R, v)\n",
    "        score = score + user_similarity[u,v]*(R[v,i] - mu_v)\n",
    "        norm = norm + abs(user_similarity[u,v])\n",
    "    return mu_u + score/norm\n",
    "\n",
    "ratings = np.array([[ R[u,i] if known(R[u,i]) else predict_rating(R, u, i)\n",
    "   for i in range(m)] for u in range(n)])\n",
    "\n",
    "print(\"\\nComplete rating matrix:\")\n",
    "print(ratings)"
   ]
  }
 ],
 "metadata": {
  "kernelspec": {
   "display_name": "Python 3",
   "language": "python",
   "name": "python3"
  },
  "language_info": {
   "codemirror_mode": {
    "name": "ipython",
    "version": 3
   },
   "file_extension": ".py",
   "mimetype": "text/x-python",
   "name": "python",
   "nbconvert_exporter": "python",
   "pygments_lexer": "ipython3",
   "version": "3.6.1"
  }
 },
 "nbformat": 4,
 "nbformat_minor": 2
}
