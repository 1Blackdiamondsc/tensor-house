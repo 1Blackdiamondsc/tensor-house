{
 "cells": [
  {
   "cell_type": "markdown",
   "metadata": {},
   "source": [
    "# Nearest Neighbor Used-based Collaborative Filtering\n",
    "\n",
    "This notebook is a toy implementation of the classic collaborative filtering algorithm. The purpose of this implementation is to provide a small and clear numerical example.\n",
    "\n",
    "### Detailed Description\n",
    "See [Introduction to Algorithmic Marketing](https://algorithmicweb.wordpress.com/ ) book\n",
    "\n",
    "### Data\n",
    "We use a small rating matrix defined inline. No external datasets are used."
   ]
  },
  {
   "cell_type": "code",
   "execution_count": 3,
   "metadata": {},
   "outputs": [],
   "source": [
    "%matplotlib inline\n",
    "import sympy as sy\n",
    "import numpy as np\n",
    "import matplotlib.pyplot as plt"
   ]
  },
  {
   "cell_type": "code",
   "execution_count": 17,
   "metadata": {},
   "outputs": [],
   "source": [
    "# Input rating matrix\n",
    "# X stands for unknown ratings\n",
    "X = np.nan\n",
    "R = np.array([\n",
    "    [5, 4, X, 1, 2, 1], #  \n",
    "    [4, X, 3, 1, 1, 2], #\n",
    "    [X, 5, 5, X, 3, 3], # users\n",
    "    [2, X, 1, 4, 5, 4], # \n",
    "    [2, 2, 2, X, 4, X], #\n",
    "    [1, 2, 1, X, 5, 4]  #\n",
    "   #       items \n",
    "])"
   ]
  },
  {
   "cell_type": "code",
   "execution_count": 18,
   "metadata": {},
   "outputs": [],
   "source": [
    "# Define common varibales and helper functions\n",
    "n, m = R.shape\n",
    "\n",
    "def known(r):\n",
    "    return not np.isnan(r)\n",
    "\n",
    "def known_user_ratings(R, u):\n",
    "    return [r for r in R[u, :] if known(r)]\n",
    "\n",
    "def user_common_ratings(R, u, v):\n",
    "    return np.array(list(filter(\n",
    "        lambda r: all(known(val) for val in r), \n",
    "        np.column_stack((R[u, :], R[v, :]))\n",
    "    ))).T\n",
    "\n",
    "def mean_r(R, u):\n",
    "    return np.mean(known_user_ratings(R, u))"
   ]
  },
  {
   "cell_type": "code",
   "execution_count": 19,
   "metadata": {},
   "outputs": [],
   "source": [
    "# Calculate the matrix of user similarities\n",
    "def similarity(R, u, v):\n",
    "    I_uv = user_common_ratings(R, u, v)\n",
    "    mu_u = mean_r(R, u)\n",
    "    mu_v = mean_r(R, u)\n",
    "    return sum([ \n",
    "          ((I_uv[0,i] - mu_u)*(I_uv[1,i] - mu_v)) / \n",
    "          (np.linalg.norm(I_uv[0,:] - mu_u) * np.linalg.norm(I_uv[1,:] - mu_v)) \n",
    "          for i in range(I_uv.shape[1])])\n",
    "\n",
    "user_similarity = np.array([[\n",
    "    similarity(R, u, v)\n",
    "    for u in range(n)] for v in range(n)])"
   ]
  },
  {
   "cell_type": "code",
   "execution_count": 20,
   "metadata": {},
   "outputs": [
    {
     "name": "stdout",
     "output_type": "stream",
     "text": [
      "[[ 1.    0.85  0.8  -0.85 -0.56 -0.79]\n",
      " [ 0.86  1.    0.62 -0.64 -0.9  -0.94]\n",
      " [ 0.46  0.25  1.   -0.83 -0.3  -0.33]\n",
      " [-0.69 -0.69 -0.73  1.    0.97  0.96]\n",
      " [-0.67 -0.64 -0.82  0.95  1.    0.96]\n",
      " [-0.79 -0.79 -0.8   0.97  0.96  1.  ]]\n"
     ]
    }
   ],
   "source": [
    "print(user_similarity)"
   ]
  },
  {
   "cell_type": "code",
   "execution_count": 21,
   "metadata": {},
   "outputs": [
    {
     "name": "stdout",
     "output_type": "stream",
     "text": [
      "user 0, item 2 <- user neighbors [1, 2]\n",
      "user 1, item 1 <- user neighbors [0, 2]\n",
      "user 2, item 0 <- user neighbors [0, 1]\n",
      "user 2, item 3 <- user neighbors [0, 1]\n",
      "user 3, item 1 <- user neighbors [4, 5]\n",
      "user 4, item 3 <- user neighbors [3, 1]\n",
      "user 4, item 5 <- user neighbors [5, 3]\n",
      "user 5, item 3 <- user neighbors [3, 0]\n",
      "\n",
      "Complete rating matrix:\n",
      "[[5.   4.   3.5  1.   2.   1.  ]\n",
      " [4.   3.43 3.   1.   1.   2.  ]\n",
      " [6.18 5.   5.   2.54 3.   3.  ]\n",
      " [2.   2.65 1.   4.   5.   4.  ]\n",
      " [2.   2.   2.   3.46 4.   3.6 ]\n",
      " [1.   2.   1.   3.76 5.   4.  ]]\n"
     ]
    }
   ],
   "source": [
    "# Predict ratings based on the user similarities\n",
    "k = 2 # neighborhood size\n",
    "\n",
    "def predict_rating(R, u, i):\n",
    "    # neighbors sorted by similarity\n",
    "    all_neighbors = np.argsort(user_similarity[u])[::-1]\n",
    "    \n",
    "    # remove neighbors without ratings for i and select top k\n",
    "    neighbors = list(filter(lambda v: known(R[v,i]) and not v==u, all_neighbors))[:k] \n",
    "    mu_u = mean_r(R, u)\n",
    "    score = 0 \n",
    "    norm = 0\n",
    "    print(\"user %s, item %s <- user neighbors %s\" % (u, i, neighbors))\n",
    "    for v in neighbors:\n",
    "        mu_v = mean_r(R, v)\n",
    "        score = score + user_similarity[u,v]*(R[v,i] - mu_v)\n",
    "        norm = norm + abs(user_similarity[u,v])\n",
    "    return mu_u + score/norm\n",
    "\n",
    "ratings = np.array([[ R[u,i] if known(R[u,i]) else predict_rating(R, u, i)\n",
    "   for i in range(m)] for u in range(n)])\n",
    "\n",
    "print(\"\\nComplete rating matrix:\")\n",
    "np.set_printoptions(precision=2)\n",
    "print(ratings)"
   ]
  }
 ],
 "metadata": {
  "kernelspec": {
   "display_name": "Python 3",
   "language": "python",
   "name": "python3"
  },
  "language_info": {
   "codemirror_mode": {
    "name": "ipython",
    "version": 3
   },
   "file_extension": ".py",
   "mimetype": "text/x-python",
   "name": "python",
   "nbconvert_exporter": "python",
   "pygments_lexer": "ipython3",
   "version": "3.7.4"
  }
 },
 "nbformat": 4,
 "nbformat_minor": 4
}
